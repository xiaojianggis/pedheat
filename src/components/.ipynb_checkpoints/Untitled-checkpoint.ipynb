{
 "cells": [
  {
   "cell_type": "code",
   "execution_count": 14,
   "id": "6e2b5a3f-a199-4655-befd-6cab681fc81b",
   "metadata": {},
   "outputs": [],
   "source": [
    "\n",
    "import geopandas as gpd\n",
    "import pandas as pd\n",
    "file = r'/Users/tul69181/Dropbox/xiaojiang/Research/Thermal-env/data/philadelphia/spatial-data/mrt_census_tract1.shp'\n",
    "\n",
    "df = gpd.read_file(file)\n"
   ]
  },
  {
   "cell_type": "code",
   "execution_count": null,
   "id": "99b39a6a-64c5-4da3-8b80-95a155f7538c",
   "metadata": {},
   "outputs": [],
   "source": []
  },
  {
   "cell_type": "code",
   "execution_count": 17,
   "id": "de463da0-07cf-45ff-9180-a3f835cd79a8",
   "metadata": {},
   "outputs": [],
   "source": [
    "df_proj = df.to_crs(4326)"
   ]
  },
  {
   "cell_type": "code",
   "execution_count": null,
   "id": "d325eef5-5954-4ca3-82ae-92f8dfc1b30b",
   "metadata": {},
   "outputs": [],
   "source": []
  },
  {
   "cell_type": "code",
   "execution_count": 11,
   "id": "5117e7e6-fa79-4e32-8933-1a6d5fab38c7",
   "metadata": {},
   "outputs": [
    {
     "data": {
      "text/plain": [
       "0       32\n",
       "1      671\n",
       "2      278\n",
       "3      723\n",
       "4      545\n",
       "      ... \n",
       "379    786\n",
       "380      0\n",
       "381    177\n",
       "382    751\n",
       "383    676\n",
       "Name: asian_popu, Length: 384, dtype: object"
      ]
     },
     "execution_count": 11,
     "metadata": {},
     "output_type": "execute_result"
    }
   ],
   "source": [
    "df_proj['asian_popu']"
   ]
  },
  {
   "cell_type": "code",
   "execution_count": 18,
   "id": "14f3ff7e-d26d-485d-b27a-3d1c2e9e9e20",
   "metadata": {},
   "outputs": [],
   "source": [
    "df_proj['asian'] = pd.to_numeric(df_proj['asian_popu'])"
   ]
  },
  {
   "cell_type": "code",
   "execution_count": 23,
   "id": "2ae1107a-0c69-4bb2-aa59-e936cd677659",
   "metadata": {},
   "outputs": [],
   "source": [
    "df_proj_new = df_proj[['asian', 'mrt', 'geometry']]"
   ]
  },
  {
   "cell_type": "code",
   "execution_count": null,
   "id": "995135de-8903-4641-a4a4-01cdde92aa29",
   "metadata": {},
   "outputs": [],
   "source": []
  },
  {
   "cell_type": "code",
   "execution_count": 10,
   "id": "850e1fa8-fd71-412a-b888-ee6690d1ee6f",
   "metadata": {},
   "outputs": [],
   "source": [
    "df_proj_new.to_file(\"mrt.geojson\", driver=\"GeoJSON\")\n"
   ]
  },
  {
   "cell_type": "code",
   "execution_count": null,
   "id": "5a514076-a119-4860-87fd-d2eca4f517d2",
   "metadata": {},
   "outputs": [],
   "source": []
  },
  {
   "cell_type": "code",
   "execution_count": 24,
   "id": "2fd337b1-b268-4a09-a662-752c7e648745",
   "metadata": {},
   "outputs": [
    {
     "data": {
      "text/plain": [
       "0       32\n",
       "1      671\n",
       "2      278\n",
       "3      723\n",
       "4      545\n",
       "      ... \n",
       "379    786\n",
       "380      0\n",
       "381    177\n",
       "382    751\n",
       "383    676\n",
       "Name: asian, Length: 384, dtype: int64"
      ]
     },
     "execution_count": 24,
     "metadata": {},
     "output_type": "execute_result"
    }
   ],
   "source": [
    "df_proj_new['asian']"
   ]
  },
  {
   "cell_type": "code",
   "execution_count": null,
   "id": "bbfc0f1c-7f63-4f14-bd2f-8f4af760b33c",
   "metadata": {},
   "outputs": [],
   "source": []
  }
 ],
 "metadata": {
  "kernelspec": {
   "display_name": "Python 3 (ipykernel)",
   "language": "python",
   "name": "python3"
  },
  "language_info": {
   "codemirror_mode": {
    "name": "ipython",
    "version": 3
   },
   "file_extension": ".py",
   "mimetype": "text/x-python",
   "name": "python",
   "nbconvert_exporter": "python",
   "pygments_lexer": "ipython3",
   "version": "3.10.13"
  }
 },
 "nbformat": 4,
 "nbformat_minor": 5
}
